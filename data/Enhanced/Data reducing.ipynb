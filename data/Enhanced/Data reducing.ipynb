{
 "cells": [
  {
   "cell_type": "code",
   "execution_count": null,
   "id": "3a188ad3",
   "metadata": {},
   "outputs": [],
   "source": [
    "import random\n",
    "label_1_indices = [idx for idx, sample in enumerate(train_dataset) if sample['Label'] == 1]\n",
    "num_label_1_samples_to_keep = len(label_1_indices) * 4 // 7\n",
    "indices_to_keep_label_1 = random.sample(label_1_indices, num_label_1_samples_to_keep)\n",
    "indices_to_keep_other_labels = [idx for idx, sample in enumerate(train_dataset) if sample['Label'] != 1]\n",
    "filtered_train_dataset = [train_dataset[idx] for idx in indices_to_keep_label_1 + indices_to_keep_other_labels]\n",
    "\n",
    "\n",
    "label_2_indices = [idx for idx, sample in enumerate(filtered_train_dataset) if sample['Label'] == 0]\n",
    "num_label_2_samples_to_keep = len(label_2_indices) * 4 // 10\n",
    "indices_to_keep_label_2 = random.sample(label_2_indices, num_label_2_samples_to_keep)\n",
    "indices_to_keep_other_labels = [idx for idx, sample in enumerate(filtered_train_dataset) if sample['Label'] != 0]\n",
    "filtered_train_dataset = [filtered_train_dataset[idx] for idx in indices_to_keep_label_2 + indices_to_keep_other_labels]"
   ]
  },
  {
   "cell_type": "code",
   "execution_count": null,
   "id": "b4a6631f",
   "metadata": {},
   "outputs": [],
   "source": [
    "label_7_indices = [idx for idx, sample in enumerate(filtered_train_dataset) if sample['Label'] == 7]\n",
    "filtered_train_dataset = [sample for idx, sample in enumerate(filtered_train_dataset) if idx not in label_7_indices]\n",
    "\n",
    "val_label_7_indices = [idx for idx, sample in enumerate(validation_dataset) if sample['Label'] == 7]\n",
    "filtered_val_dataset = [sample for idx, sample in enumerate(validation_dataset) if idx not in val_label_7_indices]\n",
    "\n",
    "test_label_7_indices = [idx for idx, sample in enumerate(test_dataset) if sample['Label'] == 7]\n",
    "filtered_test_dataset = [sample for idx, sample in enumerate(test_dataset) if idx not in test_label_7_indices]"
   ]
  }
 ],
 "metadata": {
  "kernelspec": {
   "display_name": "DL",
   "language": "python",
   "name": "dl"
  },
  "language_info": {
   "codemirror_mode": {
    "name": "ipython",
    "version": 3
   },
   "file_extension": ".py",
   "mimetype": "text/x-python",
   "name": "python",
   "nbconvert_exporter": "python",
   "pygments_lexer": "ipython3",
   "version": "3.9.16"
  }
 },
 "nbformat": 4,
 "nbformat_minor": 5
}
