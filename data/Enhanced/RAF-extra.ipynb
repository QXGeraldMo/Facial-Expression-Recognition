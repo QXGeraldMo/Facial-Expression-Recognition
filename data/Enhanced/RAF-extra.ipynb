{
 "cells": [
  {
   "cell_type": "code",
   "execution_count": 14,
   "id": "8a461383",
   "metadata": {},
   "outputs": [],
   "source": [
    "import numpy as np \n",
    "import pandas as pd \n",
    "import os\n",
    "import torch\n",
    "import torch.nn as nn\n",
    "import torch.nn.functional as F\n",
    "import torch.optim as optim\n",
    "import seaborn as sns\n",
    "from torch.utils.data import Dataset, DataLoader\n",
    "from skimage import io, transform\n",
    "import matplotlib.pyplot as plt\n",
    "from torchvision import transforms, utils\n",
    "import torchvision\n",
    "from torchvision import models\n",
    "from functools import partial\n",
    "import csv\n",
    "import matplotlib.pyplot as plt\n",
    "import seaborn as sn\n",
    "from sklearn.metrics import confusion_matrix\n",
    "from PIL import Image\n",
    "from sklearn.model_selection import train_test_split\n",
    "from torch.utils.data import Subset\n",
    "import cv2"
   ]
  },
  {
   "cell_type": "code",
   "execution_count": 15,
   "id": "127156b3",
   "metadata": {},
   "outputs": [],
   "source": [
    "label_to_text_RAF = {1:\"Surprise\", 2:\"Fear\", 3:\"Disgust\", 4:\"Happiness\", 5:\"Sadness\", 6:\"Anger\", 7:\"Neutral\"}\n",
    "\n",
    "label_to_text_FER = {0:'Neutral',1:'Happiness',2:'Surprise',3:'Sadness',4:'Anger',5:'Disgust',6:'Fear',7:'Contempt'}"
   ]
  },
  {
   "cell_type": "code",
   "execution_count": 16,
   "id": "bb8c2b54",
   "metadata": {},
   "outputs": [],
   "source": [
    "class ToTensor(object):\n",
    "    \n",
    "    def __call__(self, sample):\n",
    "        image, label, img_name, mode = sample['Image'], sample['Label'], sample['ImgName'], sample['Mode']\n",
    "        \n",
    "        image = np.expand_dims(image, axis=0)\n",
    "        \n",
    "        return {'Image': torch.from_numpy(image).float(), 'Label':label, 'ImgName':img_name, 'Mode':mode}"
   ]
  },
  {
   "cell_type": "code",
   "execution_count": 17,
   "id": "317d140b",
   "metadata": {},
   "outputs": [],
   "source": [
    "class RAF(Dataset):\n",
    "    \n",
    "    def __init__(self, csv_file, root_dir, transform=None):\n",
    "        \n",
    "        df = pd.read_csv(csv_file, header=None, names=['column1'])\n",
    "        df[['filename', 'label']] = df['column1'].str.split(' ', 1, expand=True)\n",
    "        \n",
    "        self.ImgNames = df.drop('column1', axis=1)\n",
    "        self.root_dir = root_dir\n",
    "        self.transform = transform\n",
    "        \n",
    "    def __len__(self):\n",
    "        return len(self.ImgNames)\n",
    "    \n",
    "    def __getitem__(self, idx):\n",
    "        if torch.is_tensor(idx):\n",
    "            idx = idx.tolist()\n",
    "            \n",
    "        img_name = os.path.join(self.root_dir, self.ImgNames.iloc[idx, 0])   \n",
    "        img_name = img_name.replace(\".jpg\", \"\")\n",
    "        img_name = img_name + \"_aligned\" + \".jpg\"\n",
    "        label = self.ImgNames.iloc[idx , 1]\n",
    "        label = int(label[0])-1\n",
    "        \n",
    "        image = Image.open(img_name).resize((48,48)).convert('L')\n",
    "        image= np.array(image)\n",
    "        \n",
    "        \n",
    "        mode = \"\"\n",
    "        if self.ImgNames.iloc[idx, 0].startswith(\"train\"):\n",
    "            mode = \"train\"\n",
    "        if self.ImgNames.iloc[idx, 0].startswith(\"test\"):\n",
    "            mode = \"test\"\n",
    "        \n",
    "        \n",
    "        train_transform = transforms.Compose([\n",
    "            transforms.RandomCrop(44),\n",
    "            transforms.RandomRotation(degrees=(-25, 25)),\n",
    "            transforms.RandomHorizontalFlip(),\n",
    "            transforms.RandomVerticalFlip()])\n",
    "        \n",
    "        \n",
    "        sample = {'Image':image, 'Label':label, 'ImgName':img_name, \"Mode\":mode}\n",
    "        \n",
    "        if self.transform:\n",
    "            sample = self.transform(sample)\n",
    "            sample[\"Image\"]  = train_transform(sample[\"Image\"])\n",
    "\n",
    "            \n",
    "        return sample"
   ]
  },
  {
   "cell_type": "code",
   "execution_count": 18,
   "id": "c3890db2",
   "metadata": {},
   "outputs": [
    {
     "name": "stderr",
     "output_type": "stream",
     "text": [
      "C:\\Users\\moqixiang927\\AppData\\Local\\Temp\\ipykernel_1536\\2058092255.py:6: FutureWarning: In a future version of pandas all arguments of StringMethods.split except for the argument 'pat' will be keyword-only.\n",
      "  df[['filename', 'label']] = df['column1'].str.split(' ', 1, expand=True)\n"
     ]
    }
   ],
   "source": [
    "transformed_dataset = RAF(csv_file='./RAF/list_patition_label.txt',\n",
    "                                    root_dir='./RAF',\n",
    "                                      transform=transforms.Compose([ToTensor()]))"
   ]
  },
  {
   "cell_type": "code",
   "execution_count": 19,
   "id": "bd5ea20e",
   "metadata": {},
   "outputs": [
    {
     "name": "stdout",
     "output_type": "stream",
     "text": [
      "0 torch.Size([1, 44, 44]) 4 ./RAF\\train_00001_aligned.jpg\n",
      "tensor([[[0., 0., 0.,  ..., 0., 0., 0.],\n",
      "         [0., 0., 0.,  ..., 0., 0., 0.],\n",
      "         [0., 0., 0.,  ..., 0., 0., 0.],\n",
      "         ...,\n",
      "         [0., 0., 0.,  ..., 0., 0., 0.],\n",
      "         [0., 0., 0.,  ..., 0., 0., 0.],\n",
      "         [0., 0., 0.,  ..., 0., 0., 0.]]])\n"
     ]
    },
    {
     "data": {
      "image/png": "[encoded data removed]",
      "text/plain": [
       "<Figure size 640x480 with 1 Axes>"
      ]
     },
     "metadata": {},
     "output_type": "display_data"
    },
    {
     "name": "stdout",
     "output_type": "stream",
     "text": [
      "torch.Size([44, 44, 1])\n",
      "1 torch.Size([1, 44, 44]) 4 ./RAF\\train_00002_aligned.jpg\n",
      "tensor([[[ 24.,  22.,  24.,  ...,  48.,  35.,  30.],\n",
      "         [ 26.,  29.,  36.,  ...,  83.,  36.,  52.],\n",
      "         [ 23.,  32.,  48.,  ..., 102.,  68.,  60.],\n",
      "         ...,\n",
      "         [ 46.,  44.,  53.,  ...,  70., 102., 140.],\n",
      "         [ 46.,  52.,  55.,  ...,  94., 124., 139.],\n",
      "         [ 37.,  42.,  34.,  ..., 112., 127., 126.]]])\n"
     ]
    },
    {
     "data": {
      "image/png": "[encoded data removed]",
      "text/plain": [
       "<Figure size 640x480 with 1 Axes>"
      ]
     },
     "metadata": {},
     "output_type": "display_data"
    },
    {
     "name": "stdout",
     "output_type": "stream",
     "text": [
      "torch.Size([44, 44, 1])\n",
      "2 torch.Size([1, 44, 44]) 3 ./RAF\\train_00003_aligned.jpg\n",
      "tensor([[[0., 0., 0.,  ..., 0., 0., 0.],\n",
      "         [0., 0., 0.,  ..., 0., 0., 0.],\n",
      "         [0., 0., 0.,  ..., 0., 0., 0.],\n",
      "         ...,\n",
      "         [0., 0., 0.,  ..., 0., 0., 0.],\n",
      "         [0., 0., 0.,  ..., 0., 0., 0.],\n",
      "         [0., 0., 0.,  ..., 0., 0., 0.]]])\n"
     ]
    },
    {
     "data": {
      "image/png": "[encoded data removed]",
      "text/plain": [
       "<Figure size 640x480 with 1 Axes>"
      ]
     },
     "metadata": {},
     "output_type": "display_data"
    },
    {
     "name": "stdout",
     "output_type": "stream",
     "text": [
      "torch.Size([44, 44, 1])\n",
      "3 torch.Size([1, 44, 44]) 3 ./RAF\\train_00004_aligned.jpg\n",
      "tensor([[[0., 0., 0.,  ..., 0., 0., 0.],\n",
      "         [0., 0., 0.,  ..., 0., 0., 0.],\n",
      "         [0., 0., 0.,  ..., 0., 0., 0.],\n",
      "         ...,\n",
      "         [0., 0., 0.,  ..., 0., 0., 0.],\n",
      "         [0., 0., 0.,  ..., 0., 0., 0.],\n",
      "         [0., 0., 0.,  ..., 0., 0., 0.]]])\n"
     ]
    },
    {
     "data": {
      "image/png": "[encoded data removed]",
      "text/plain": [
       "<Figure size 640x480 with 1 Axes>"
      ]
     },
     "metadata": {},
     "output_type": "display_data"
    },
    {
     "name": "stdout",
     "output_type": "stream",
     "text": [
      "torch.Size([44, 44, 1])\n"
     ]
    }
   ],
   "source": [
    "for i in range(len(transformed_dataset)):\n",
    "    sample = transformed_dataset[i]\n",
    "\n",
    "    print(i, sample['Image'].size(), sample['Label'], sample['ImgName'])\n",
    "    print(sample['Image'])\n",
    "    img = np.transpose(sample['Image'], (1, 2, 0))\n",
    "    plt.imshow(img)\n",
    "    plt.axis('off')  # Optional: Hide axis ticks and labels\n",
    "    plt.show()\n",
    "    print(img.size())\n",
    "    abc = sample['Image']\n",
    "    if i == 3:\n",
    "        break"
   ]
  },
  {
   "cell_type": "code",
   "execution_count": 20,
   "id": "20fe35b6",
   "metadata": {},
   "outputs": [
    {
     "data": {
      "text/html": [
       "<div>\n",
       "<style scoped>\n",
       "    .dataframe tbody tr th:only-of-type {\n",
       "        vertical-align: middle;\n",
       "    }\n",
       "\n",
       "    .dataframe tbody tr th {\n",
       "        vertical-align: top;\n",
       "    }\n",
       "\n",
       "    .dataframe thead th {\n",
       "        text-align: right;\n",
       "    }\n",
       "</style>\n",
       "<table border=\"1\" class=\"dataframe\">\n",
       "  <thead>\n",
       "    <tr style=\"text-align: right;\">\n",
       "      <th></th>\n",
       "      <th>Label</th>\n",
       "      <th>Count</th>\n",
       "    </tr>\n",
       "  </thead>\n",
       "  <tbody>\n",
       "    <tr>\n",
       "      <th>0</th>\n",
       "      <td>4</td>\n",
       "      <td>2460</td>\n",
       "    </tr>\n",
       "    <tr>\n",
       "      <th>1</th>\n",
       "      <td>3</td>\n",
       "      <td>5957</td>\n",
       "    </tr>\n",
       "    <tr>\n",
       "      <th>2</th>\n",
       "      <td>0</td>\n",
       "      <td>1619</td>\n",
       "    </tr>\n",
       "    <tr>\n",
       "      <th>3</th>\n",
       "      <td>5</td>\n",
       "      <td>867</td>\n",
       "    </tr>\n",
       "    <tr>\n",
       "      <th>4</th>\n",
       "      <td>1</td>\n",
       "      <td>355</td>\n",
       "    </tr>\n",
       "    <tr>\n",
       "      <th>5</th>\n",
       "      <td>2</td>\n",
       "      <td>877</td>\n",
       "    </tr>\n",
       "    <tr>\n",
       "      <th>6</th>\n",
       "      <td>6</td>\n",
       "      <td>3204</td>\n",
       "    </tr>\n",
       "  </tbody>\n",
       "</table>\n",
       "</div>"
      ],
      "text/plain": [
       "   Label  Count\n",
       "0      4   2460\n",
       "1      3   5957\n",
       "2      0   1619\n",
       "3      5    867\n",
       "4      1    355\n",
       "5      2    877\n",
       "6      6   3204"
      ]
     },
     "execution_count": 20,
     "metadata": {},
     "output_type": "execute_result"
    }
   ],
   "source": [
    "label_counts = {}\n",
    "label_to_text_RAF = {1:\"Surprise\", 2:\"Fear\", 3:\"Disgust\", 4:\"Happiness\", 5:\"Sadness\", 6:\"Anger\", 7:\"Neutral\"}\n",
    "label_to_text_RAF = {0:\"Surprise\", 1:\"Fear\", 2:\"Disgust\", 3:\"Happiness\", 4:\"Sadness\", 5:\"Anger\", 6:\"Neutral\"}\n",
    "\n",
    "label_to_text_FER = {0:'Neutral',1:'Happiness',2:'Surprise',3:'Sadness',4:'Anger',5:'Disgust',6:'Fear',7:'Contempt'}\n",
    "\n",
    "for idx in range(len(transformed_dataset)):\n",
    "    sample = transformed_dataset[idx]\n",
    "    label = sample['Label']\n",
    "\n",
    "    # Increment the count for the label in the dictionary\n",
    "    if label in label_counts:\n",
    "        label_counts[label] += 1\n",
    "    else:\n",
    "        label_counts[label] = 1\n",
    "        \n",
    "label_counts_df = pd.DataFrame(label_counts.items(), columns=['Label', 'Count'])\n",
    "label_counts_df"
   ]
  },
  {
   "cell_type": "code",
   "execution_count": 21,
   "id": "5b1f2068",
   "metadata": {},
   "outputs": [],
   "source": [
    "def raf_to_fer(input_label):\n",
    "    label_to_text_RAF = {0:\"Surprise\", 1:\"Fear\", 2:\"Disgust\", 3:\"Happiness\", 4:\"Sadness\", 5:\"Anger\", 6:\"Neutral\"}\n",
    "    label_to_text_FER = {0:'Neutral',1:'Happiness',2:'Surprise',3:'Sadness',4:'Anger',5:'Disgust',6:'Fear',7:'Contempt'}\n",
    "    output_label = \"\"\n",
    "    \n",
    "    text = label_to_text_RAF[input_label]\n",
    "    \n",
    "    for key,value in label_to_text_FER.items():\n",
    "        if value == text:\n",
    "            output_label =  key\n",
    "    \n",
    "    return output_label\n"
   ]
  },
  {
   "cell_type": "code",
   "execution_count": 22,
   "id": "d1f1c79d",
   "metadata": {},
   "outputs": [],
   "source": [
    "def save_to_csv(data, file_path):\n",
    "    headers = [\"Image name\", \"Label\"]\n",
    "    \n",
    "    with open(file_path, mode='w', newline='') as file:\n",
    "        writer = csv.writer(file)\n",
    "        writer.writerow(headers)\n",
    "        writer.writerows(data)"
   ]
  },
  {
   "cell_type": "code",
   "execution_count": 23,
   "id": "878a7d48",
   "metadata": {},
   "outputs": [
    {
     "name": "stderr",
     "output_type": "stream",
     "text": [
      "C:\\Users\\moqixiang927\\AppData\\Local\\Temp\\ipykernel_1536\\2521546786.py:2: FutureWarning: In a future version of pandas all arguments of StringMethods.split except for the argument 'pat' will be keyword-only.\n",
      "  df[['filename', 'label']] = df['column1'].str.split(' ', 1, expand=True)\n"
     ]
    }
   ],
   "source": [
    "df = pd.read_csv('./RAF/list_patition_label.txt', header=None, names=['column1'])\n",
    "df[['filename', 'label']] = df['column1'].str.split(' ', 1, expand=True)\n",
    "df = df.drop('column1', axis=1)"
   ]
  },
  {
   "cell_type": "code",
   "execution_count": 24,
   "id": "6f5a0098",
   "metadata": {},
   "outputs": [
    {
     "data": {
      "text/html": [
       "<div>\n",
       "<style scoped>\n",
       "    .dataframe tbody tr th:only-of-type {\n",
       "        vertical-align: middle;\n",
       "    }\n",
       "\n",
       "    .dataframe tbody tr th {\n",
       "        vertical-align: top;\n",
       "    }\n",
       "\n",
       "    .dataframe thead th {\n",
       "        text-align: right;\n",
       "    }\n",
       "</style>\n",
       "<table border=\"1\" class=\"dataframe\">\n",
       "  <thead>\n",
       "    <tr style=\"text-align: right;\">\n",
       "      <th></th>\n",
       "      <th>filename</th>\n",
       "      <th>label</th>\n",
       "    </tr>\n",
       "  </thead>\n",
       "  <tbody>\n",
       "    <tr>\n",
       "      <th>0</th>\n",
       "      <td>train_00001.jpg</td>\n",
       "      <td>5</td>\n",
       "    </tr>\n",
       "    <tr>\n",
       "      <th>1</th>\n",
       "      <td>train_00002.jpg</td>\n",
       "      <td>5</td>\n",
       "    </tr>\n",
       "    <tr>\n",
       "      <th>2</th>\n",
       "      <td>train_00003.jpg</td>\n",
       "      <td>4</td>\n",
       "    </tr>\n",
       "    <tr>\n",
       "      <th>3</th>\n",
       "      <td>train_00004.jpg</td>\n",
       "      <td>4</td>\n",
       "    </tr>\n",
       "    <tr>\n",
       "      <th>4</th>\n",
       "      <td>train_00005.jpg</td>\n",
       "      <td>5</td>\n",
       "    </tr>\n",
       "    <tr>\n",
       "      <th>...</th>\n",
       "      <td>...</td>\n",
       "      <td>...</td>\n",
       "    </tr>\n",
       "    <tr>\n",
       "      <th>15334</th>\n",
       "      <td>test_3064.jpg</td>\n",
       "      <td>7</td>\n",
       "    </tr>\n",
       "    <tr>\n",
       "      <th>15335</th>\n",
       "      <td>test_3065.jpg</td>\n",
       "      <td>7</td>\n",
       "    </tr>\n",
       "    <tr>\n",
       "      <th>15336</th>\n",
       "      <td>test_3066.jpg</td>\n",
       "      <td>7</td>\n",
       "    </tr>\n",
       "    <tr>\n",
       "      <th>15337</th>\n",
       "      <td>test_3067.jpg</td>\n",
       "      <td>7</td>\n",
       "    </tr>\n",
       "    <tr>\n",
       "      <th>15338</th>\n",
       "      <td>test_3068.jpg</td>\n",
       "      <td>7</td>\n",
       "    </tr>\n",
       "  </tbody>\n",
       "</table>\n",
       "<p>15339 rows × 2 columns</p>\n",
       "</div>"
      ],
      "text/plain": [
       "              filename label\n",
       "0      train_00001.jpg     5\n",
       "1      train_00002.jpg     5\n",
       "2      train_00003.jpg     4\n",
       "3      train_00004.jpg     4\n",
       "4      train_00005.jpg     5\n",
       "...                ...   ...\n",
       "15334    test_3064.jpg     7\n",
       "15335    test_3065.jpg     7\n",
       "15336    test_3066.jpg     7\n",
       "15337    test_3067.jpg     7\n",
       "15338    test_3068.jpg     7\n",
       "\n",
       "[15339 rows x 2 columns]"
      ]
     },
     "execution_count": 24,
     "metadata": {},
     "output_type": "execute_result"
    }
   ],
   "source": [
    "df"
   ]
  },
  {
   "cell_type": "code",
   "execution_count": 25,
   "id": "94c6cccb",
   "metadata": {},
   "outputs": [],
   "source": [
    "root_dir='./RAF/'\n",
    "headers = [\"Image name\", \"Label\"]\n",
    "label_4_info = []\n",
    "label_5_info = []\n",
    "label_6_info = []\n",
    "\n",
    "\n",
    "for idx in range(len(df)):\n",
    "    \n",
    "    img_path = os.path.join(root_dir, df.iloc[idx, 0])\n",
    "    img_path = img_path.replace(\".jpg\", \"\")\n",
    "    img_path = img_path + \"_aligned\" + \".jpg\"\n",
    "    \n",
    "    label = df.iloc[idx , 1]\n",
    "    label = int(label[0])-1\n",
    "    label = raf_to_fer(label)\n",
    "    \n",
    "    image = Image.open(img_path).resize((48,48)).convert('L')\n",
    "    image= np.array(image)\n",
    "    \n",
    "    output_path = 'D:/Leaning in Glasgow/Msc Project/DATA/extra/RAF' \n",
    "    \n",
    "    csv_file_path_4 = \"D:/Leaning in Glasgow/Msc Project/DATA/extra/RAF/label4/label4.csv\"\n",
    "    csv_file_path_5 = \"D:/Leaning in Glasgow/Msc Project/DATA/extra/RAF/label5/label5.csv\"\n",
    "    csv_file_path_6 = \"D:/Leaning in Glasgow/Msc Project/DATA/extra/RAF/label6/label6.csv\"\n",
    "    \n",
    "    if label == 4:\n",
    "        filename = str(idx) + '.jpg'\n",
    "        file_path = output_path + '/label4/' + filename\n",
    "        cv2.imwrite(file_path, image)\n",
    "        label_4_info.append([filename, 4])\n",
    "        \n",
    "    if label == 5:\n",
    "        filename = str(idx) + '.jpg'\n",
    "        file_path = output_path + '/label5/' + filename\n",
    "        cv2.imwrite(file_path, image)\n",
    "        label_5_info.append([filename, 5])\n",
    "        \n",
    "    if label == 6:\n",
    "        filename = str(idx) + '.jpg'\n",
    "        file_path = output_path + '/label6/' + filename\n",
    "        cv2.imwrite(file_path, image)\n",
    "        label_6_info.append([filename, 6])\n",
    "    \n",
    "save_to_csv(label_5_info, csv_file_path_5)\n",
    "save_to_csv(label_6_info, csv_file_path_6)  \n",
    "save_to_csv(label_4_info, csv_file_path_4)  "
   ]
  },
  {
   "cell_type": "code",
   "execution_count": 26,
   "id": "313ba266",
   "metadata": {},
   "outputs": [],
   "source": []
  }
 ],
 "metadata": {
  "kernelspec": {
   "display_name": "DL",
   "language": "python",
   "name": "dl"
  },
  "language_info": {
   "codemirror_mode": {
    "name": "ipython",
    "version": 3
   },
   "file_extension": ".py",
   "mimetype": "text/x-python",
   "name": "python",
   "nbconvert_exporter": "python",
   "pygments_lexer": "ipython3",
   "version": "3.9.16"
  }
 },
 "nbformat": 4,
 "nbformat_minor": 5
}
